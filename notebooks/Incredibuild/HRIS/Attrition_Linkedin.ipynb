{
 "cells": [
  {
   "cell_type": "markdown",
   "metadata": {},
   "source": [
    "# Attrition using Linkedin ODP data"
   ]
  },
  {
   "cell_type": "code",
   "execution_count": 9,
   "metadata": {},
   "outputs": [],
   "source": [
    "import pandas as pd\n",
    "import plotly.graph_objects as go\n",
    "import numpy as np\n",
    "\n",
    "# Load the dataset\n",
    "data = pd.read_csv('../../../data/Incredibuild/HRIS/001_INCREDIBUILD_ALL_PROFILES.csv', delimiter=';')\n",
    "data_companies = pd.read_csv('../../../data/Incredibuild/HRIS/001_ALL_PROFILES.csv', delimiter=';')\n"
   ]
  },
  {
   "cell_type": "code",
   "execution_count": 10,
   "metadata": {},
   "outputs": [
    {
     "data": {
      "text/html": [
       "<div>\n",
       "<style scoped>\n",
       "    .dataframe tbody tr th:only-of-type {\n",
       "        vertical-align: middle;\n",
       "    }\n",
       "\n",
       "    .dataframe tbody tr th {\n",
       "        vertical-align: top;\n",
       "    }\n",
       "\n",
       "    .dataframe thead th {\n",
       "        text-align: right;\n",
       "    }\n",
       "</style>\n",
       "<table border=\"1\" class=\"dataframe\">\n",
       "  <thead>\n",
       "    <tr style=\"text-align: right;\">\n",
       "      <th></th>\n",
       "      <th>profile_id</th>\n",
       "      <th>sequence_nbr</th>\n",
       "      <th>start_date</th>\n",
       "      <th>end_date</th>\n",
       "      <th>company</th>\n",
       "      <th>title</th>\n",
       "      <th>country</th>\n",
       "      <th>region</th>\n",
       "      <th>location</th>\n",
       "      <th>is_title_d_and_a</th>\n",
       "      <th>tk_title_standardized_original_language</th>\n",
       "      <th>tk_title_original_language</th>\n",
       "      <th>tk_title_standardized_english</th>\n",
       "      <th>tk_title_standardized_group</th>\n",
       "      <th>tk_title_standardized_class</th>\n",
       "      <th>is_title_manager</th>\n",
       "      <th>odp_function</th>\n",
       "      <th>mck_function</th>\n",
       "    </tr>\n",
       "  </thead>\n",
       "  <tbody>\n",
       "    <tr>\n",
       "      <th>0</th>\n",
       "      <td>d4333688-c76f-4ccf-822c-1e926295cc81</td>\n",
       "      <td>2</td>\n",
       "      <td>01/01/2011</td>\n",
       "      <td>NaN</td>\n",
       "      <td>Global-e Ltd.</td>\n",
       "      <td>Supervisor</td>\n",
       "      <td>Argentina</td>\n",
       "      <td>NaN</td>\n",
       "      <td>NaN</td>\n",
       "      <td>False</td>\n",
       "      <td>Spanish</td>\n",
       "      <td>Consultor (Otros)</td>\n",
       "      <td>Consultant (other)</td>\n",
       "      <td>Other Professions</td>\n",
       "      <td>Other</td>\n",
       "      <td>False</td>\n",
       "      <td>Digital &amp; Analytics</td>\n",
       "      <td>Analytics</td>\n",
       "    </tr>\n",
       "    <tr>\n",
       "      <th>1</th>\n",
       "      <td>0f8cba01-fdd6-4eb9-b1d4-376a73fb3de4</td>\n",
       "      <td>10</td>\n",
       "      <td>09/01/2021</td>\n",
       "      <td>NaN</td>\n",
       "      <td>Deel</td>\n",
       "      <td>Marketing Director LATAM</td>\n",
       "      <td>Argentina</td>\n",
       "      <td>Buenos Aires</td>\n",
       "      <td>NaN</td>\n",
       "      <td>False</td>\n",
       "      <td>NaN</td>\n",
       "      <td>NaN</td>\n",
       "      <td>NaN</td>\n",
       "      <td>NaN</td>\n",
       "      <td>NaN</td>\n",
       "      <td>True</td>\n",
       "      <td>Marketing &amp; Sales</td>\n",
       "      <td>Marketing</td>\n",
       "    </tr>\n",
       "    <tr>\n",
       "      <th>2</th>\n",
       "      <td>13697700-11c0-4567-ab56-03623236db1d</td>\n",
       "      <td>6</td>\n",
       "      <td>06/01/2022</td>\n",
       "      <td>NaN</td>\n",
       "      <td>Deel</td>\n",
       "      <td>FinTech Customer Operations Specialist</td>\n",
       "      <td>Argentina</td>\n",
       "      <td>NaN</td>\n",
       "      <td>NaN</td>\n",
       "      <td>False</td>\n",
       "      <td>NaN</td>\n",
       "      <td>NaN</td>\n",
       "      <td>NaN</td>\n",
       "      <td>NaN</td>\n",
       "      <td>NaN</td>\n",
       "      <td>False</td>\n",
       "      <td>Operations</td>\n",
       "      <td>Operations</td>\n",
       "    </tr>\n",
       "    <tr>\n",
       "      <th>3</th>\n",
       "      <td>d4333688-c76f-4ccf-822c-1e926295cc81</td>\n",
       "      <td>3</td>\n",
       "      <td>03/01/2012</td>\n",
       "      <td>NaN</td>\n",
       "      <td>Global-e Ltd.</td>\n",
       "      <td>Encargado de turnos</td>\n",
       "      <td>Argentina</td>\n",
       "      <td>NaN</td>\n",
       "      <td>NaN</td>\n",
       "      <td>False</td>\n",
       "      <td>Spanish</td>\n",
       "      <td>Gerente de sucursal</td>\n",
       "      <td>Branch Manager</td>\n",
       "      <td>Sales Managers</td>\n",
       "      <td>Sales and Trading</td>\n",
       "      <td>False</td>\n",
       "      <td>Operations</td>\n",
       "      <td>Operations</td>\n",
       "    </tr>\n",
       "    <tr>\n",
       "      <th>4</th>\n",
       "      <td>897a8fa5-4fa1-41f8-bef4-bba5c7a69f2d</td>\n",
       "      <td>4</td>\n",
       "      <td>11/01/2014</td>\n",
       "      <td>NaN</td>\n",
       "      <td>Global-e Ltd.</td>\n",
       "      <td>Analista en RRHH</td>\n",
       "      <td>Argentina</td>\n",
       "      <td>NaN</td>\n",
       "      <td>NaN</td>\n",
       "      <td>False</td>\n",
       "      <td>Spanish</td>\n",
       "      <td>Analista (otros)</td>\n",
       "      <td>Analyst (other)</td>\n",
       "      <td>Management Analysts and Consultants</td>\n",
       "      <td>Management, Policy and Governance</td>\n",
       "      <td>False</td>\n",
       "      <td>Marketing &amp; Sales</td>\n",
       "      <td>Communications</td>\n",
       "    </tr>\n",
       "  </tbody>\n",
       "</table>\n",
       "</div>"
      ],
      "text/plain": [
       "                             profile_id  sequence_nbr  start_date end_date  \\\n",
       "0  d4333688-c76f-4ccf-822c-1e926295cc81             2  01/01/2011      NaN   \n",
       "1  0f8cba01-fdd6-4eb9-b1d4-376a73fb3de4            10  09/01/2021      NaN   \n",
       "2  13697700-11c0-4567-ab56-03623236db1d             6  06/01/2022      NaN   \n",
       "3  d4333688-c76f-4ccf-822c-1e926295cc81             3  03/01/2012      NaN   \n",
       "4  897a8fa5-4fa1-41f8-bef4-bba5c7a69f2d             4  11/01/2014      NaN   \n",
       "\n",
       "         company                                   title    country  \\\n",
       "0  Global-e Ltd.                              Supervisor  Argentina   \n",
       "1           Deel                Marketing Director LATAM  Argentina   \n",
       "2           Deel  FinTech Customer Operations Specialist  Argentina   \n",
       "3  Global-e Ltd.                     Encargado de turnos  Argentina   \n",
       "4  Global-e Ltd.                        Analista en RRHH  Argentina   \n",
       "\n",
       "         region location is_title_d_and_a  \\\n",
       "0           NaN      NaN            False   \n",
       "1  Buenos Aires      NaN            False   \n",
       "2           NaN      NaN            False   \n",
       "3           NaN      NaN            False   \n",
       "4           NaN      NaN            False   \n",
       "\n",
       "  tk_title_standardized_original_language tk_title_original_language  \\\n",
       "0                                 Spanish          Consultor (Otros)   \n",
       "1                                     NaN                        NaN   \n",
       "2                                     NaN                        NaN   \n",
       "3                                 Spanish        Gerente de sucursal   \n",
       "4                                 Spanish           Analista (otros)   \n",
       "\n",
       "  tk_title_standardized_english          tk_title_standardized_group  \\\n",
       "0            Consultant (other)                    Other Professions   \n",
       "1                           NaN                                  NaN   \n",
       "2                           NaN                                  NaN   \n",
       "3                Branch Manager                       Sales Managers   \n",
       "4               Analyst (other)  Management Analysts and Consultants   \n",
       "\n",
       "         tk_title_standardized_class is_title_manager         odp_function  \\\n",
       "0                              Other            False  Digital & Analytics   \n",
       "1                                NaN             True    Marketing & Sales   \n",
       "2                                NaN            False           Operations   \n",
       "3                  Sales and Trading            False           Operations   \n",
       "4  Management, Policy and Governance            False    Marketing & Sales   \n",
       "\n",
       "     mck_function  \n",
       "0       Analytics  \n",
       "1       Marketing  \n",
       "2      Operations  \n",
       "3      Operations  \n",
       "4  Communications  "
      ]
     },
     "execution_count": 10,
     "metadata": {},
     "output_type": "execute_result"
    }
   ],
   "source": [
    "data_companies.head()"
   ]
  },
  {
   "cell_type": "code",
   "execution_count": 11,
   "metadata": {},
   "outputs": [
    {
     "data": {
      "application/vnd.plotly.v1+json": {
       "config": {
        "plotlyServerURL": "https://plot.ly"
       },
       "data": [
        {
         "mode": "lines+markers",
         "name": "Executive",
         "type": "scatter",
         "x": [
          2002,
          2011,
          2019,
          2020,
          2021,
          2022,
          2023
         ],
         "y": [
          0,
          0.3333333333333333,
          0.25,
          0,
          0.14285714285714285,
          0,
          0
         ]
        },
        {
         "mode": "lines+markers",
         "name": "Marketing & Sales",
         "type": "scatter",
         "x": [
          2007,
          2010,
          2012,
          2013,
          2014,
          2015,
          2016,
          2017,
          2018,
          2019,
          2020,
          2021,
          2022,
          2023
         ],
         "y": [
          0,
          0.3333333333333333,
          0,
          0.16666666666666666,
          0.1111111111111111,
          0.2,
          0.09090909090909091,
          0,
          0.14285714285714285,
          0.14285714285714285,
          0.15873015873015872,
          0.23469387755102042,
          0.16911764705882354,
          0.06802721088435375
         ]
        },
        {
         "mode": "lines+markers",
         "name": "nan",
         "type": "scatter",
         "x": [],
         "y": []
        },
        {
         "mode": "lines+markers",
         "name": "Operations",
         "type": "scatter",
         "x": [
          2011,
          2012,
          2013,
          2014,
          2015,
          2016,
          2017,
          2019,
          2020,
          2021,
          2022,
          2023
         ],
         "y": [
          0,
          0,
          0,
          0,
          0.3333333333333333,
          0.2857142857142857,
          0.125,
          0.1,
          0.09090909090909091,
          0.15789473684210525,
          0.06896551724137931,
          0.0625
         ]
        },
        {
         "mode": "lines+markers",
         "name": "Other",
         "type": "scatter",
         "x": [
          2012,
          2018,
          2020,
          2021,
          2022,
          2023
         ],
         "y": [
          0,
          0,
          0.2,
          0,
          0.18181818181818182,
          0.16666666666666666
         ]
        },
        {
         "mode": "lines+markers",
         "name": "Legal, Risk & HR",
         "type": "scatter",
         "x": [
          2012,
          2015,
          2016,
          2017,
          2018,
          2019,
          2020,
          2021,
          2022,
          2023
         ],
         "y": [
          0,
          0,
          0.3333333333333333,
          0,
          0.16666666666666666,
          0.14285714285714285,
          0.2,
          0.2,
          0.10714285714285714,
          0.10344827586206896
         ]
        },
        {
         "mode": "lines+markers",
         "name": "Digital & Analytics",
         "type": "scatter",
         "x": [
          2015,
          2016,
          2017,
          2018,
          2019,
          2020,
          2021,
          2022,
          2023
         ],
         "y": [
          0,
          0,
          0.3333333333333333,
          0.125,
          0.2,
          0.15789473684210525,
          0.16,
          0.1111111111111111,
          0.02564102564102564
         ]
        },
        {
         "mode": "lines+markers",
         "name": "Finance",
         "type": "scatter",
         "x": [
          2018,
          2019,
          2020,
          2021,
          2022
         ],
         "y": [
          0,
          0.3333333333333333,
          0,
          0.2857142857142857,
          0.125
         ]
        }
       ],
       "layout": {
        "legend": {
         "title": {
          "text": "Function"
         }
        },
        "template": {
         "data": {
          "bar": [
           {
            "error_x": {
             "color": "#2a3f5f"
            },
            "error_y": {
             "color": "#2a3f5f"
            },
            "marker": {
             "line": {
              "color": "#E5ECF6",
              "width": 0.5
             },
             "pattern": {
              "fillmode": "overlay",
              "size": 10,
              "solidity": 0.2
             }
            },
            "type": "bar"
           }
          ],
          "barpolar": [
           {
            "marker": {
             "line": {
              "color": "#E5ECF6",
              "width": 0.5
             },
             "pattern": {
              "fillmode": "overlay",
              "size": 10,
              "solidity": 0.2
             }
            },
            "type": "barpolar"
           }
          ],
          "carpet": [
           {
            "aaxis": {
             "endlinecolor": "#2a3f5f",
             "gridcolor": "white",
             "linecolor": "white",
             "minorgridcolor": "white",
             "startlinecolor": "#2a3f5f"
            },
            "baxis": {
             "endlinecolor": "#2a3f5f",
             "gridcolor": "white",
             "linecolor": "white",
             "minorgridcolor": "white",
             "startlinecolor": "#2a3f5f"
            },
            "type": "carpet"
           }
          ],
          "choropleth": [
           {
            "colorbar": {
             "outlinewidth": 0,
             "ticks": ""
            },
            "type": "choropleth"
           }
          ],
          "contour": [
           {
            "colorbar": {
             "outlinewidth": 0,
             "ticks": ""
            },
            "colorscale": [
             [
              0,
              "#0d0887"
             ],
             [
              0.1111111111111111,
              "#46039f"
             ],
             [
              0.2222222222222222,
              "#7201a8"
             ],
             [
              0.3333333333333333,
              "#9c179e"
             ],
             [
              0.4444444444444444,
              "#bd3786"
             ],
             [
              0.5555555555555556,
              "#d8576b"
             ],
             [
              0.6666666666666666,
              "#ed7953"
             ],
             [
              0.7777777777777778,
              "#fb9f3a"
             ],
             [
              0.8888888888888888,
              "#fdca26"
             ],
             [
              1,
              "#f0f921"
             ]
            ],
            "type": "contour"
           }
          ],
          "contourcarpet": [
           {
            "colorbar": {
             "outlinewidth": 0,
             "ticks": ""
            },
            "type": "contourcarpet"
           }
          ],
          "heatmap": [
           {
            "colorbar": {
             "outlinewidth": 0,
             "ticks": ""
            },
            "colorscale": [
             [
              0,
              "#0d0887"
             ],
             [
              0.1111111111111111,
              "#46039f"
             ],
             [
              0.2222222222222222,
              "#7201a8"
             ],
             [
              0.3333333333333333,
              "#9c179e"
             ],
             [
              0.4444444444444444,
              "#bd3786"
             ],
             [
              0.5555555555555556,
              "#d8576b"
             ],
             [
              0.6666666666666666,
              "#ed7953"
             ],
             [
              0.7777777777777778,
              "#fb9f3a"
             ],
             [
              0.8888888888888888,
              "#fdca26"
             ],
             [
              1,
              "#f0f921"
             ]
            ],
            "type": "heatmap"
           }
          ],
          "heatmapgl": [
           {
            "colorbar": {
             "outlinewidth": 0,
             "ticks": ""
            },
            "colorscale": [
             [
              0,
              "#0d0887"
             ],
             [
              0.1111111111111111,
              "#46039f"
             ],
             [
              0.2222222222222222,
              "#7201a8"
             ],
             [
              0.3333333333333333,
              "#9c179e"
             ],
             [
              0.4444444444444444,
              "#bd3786"
             ],
             [
              0.5555555555555556,
              "#d8576b"
             ],
             [
              0.6666666666666666,
              "#ed7953"
             ],
             [
              0.7777777777777778,
              "#fb9f3a"
             ],
             [
              0.8888888888888888,
              "#fdca26"
             ],
             [
              1,
              "#f0f921"
             ]
            ],
            "type": "heatmapgl"
           }
          ],
          "histogram": [
           {
            "marker": {
             "pattern": {
              "fillmode": "overlay",
              "size": 10,
              "solidity": 0.2
             }
            },
            "type": "histogram"
           }
          ],
          "histogram2d": [
           {
            "colorbar": {
             "outlinewidth": 0,
             "ticks": ""
            },
            "colorscale": [
             [
              0,
              "#0d0887"
             ],
             [
              0.1111111111111111,
              "#46039f"
             ],
             [
              0.2222222222222222,
              "#7201a8"
             ],
             [
              0.3333333333333333,
              "#9c179e"
             ],
             [
              0.4444444444444444,
              "#bd3786"
             ],
             [
              0.5555555555555556,
              "#d8576b"
             ],
             [
              0.6666666666666666,
              "#ed7953"
             ],
             [
              0.7777777777777778,
              "#fb9f3a"
             ],
             [
              0.8888888888888888,
              "#fdca26"
             ],
             [
              1,
              "#f0f921"
             ]
            ],
            "type": "histogram2d"
           }
          ],
          "histogram2dcontour": [
           {
            "colorbar": {
             "outlinewidth": 0,
             "ticks": ""
            },
            "colorscale": [
             [
              0,
              "#0d0887"
             ],
             [
              0.1111111111111111,
              "#46039f"
             ],
             [
              0.2222222222222222,
              "#7201a8"
             ],
             [
              0.3333333333333333,
              "#9c179e"
             ],
             [
              0.4444444444444444,
              "#bd3786"
             ],
             [
              0.5555555555555556,
              "#d8576b"
             ],
             [
              0.6666666666666666,
              "#ed7953"
             ],
             [
              0.7777777777777778,
              "#fb9f3a"
             ],
             [
              0.8888888888888888,
              "#fdca26"
             ],
             [
              1,
              "#f0f921"
             ]
            ],
            "type": "histogram2dcontour"
           }
          ],
          "mesh3d": [
           {
            "colorbar": {
             "outlinewidth": 0,
             "ticks": ""
            },
            "type": "mesh3d"
           }
          ],
          "parcoords": [
           {
            "line": {
             "colorbar": {
              "outlinewidth": 0,
              "ticks": ""
             }
            },
            "type": "parcoords"
           }
          ],
          "pie": [
           {
            "automargin": true,
            "type": "pie"
           }
          ],
          "scatter": [
           {
            "fillpattern": {
             "fillmode": "overlay",
             "size": 10,
             "solidity": 0.2
            },
            "type": "scatter"
           }
          ],
          "scatter3d": [
           {
            "line": {
             "colorbar": {
              "outlinewidth": 0,
              "ticks": ""
             }
            },
            "marker": {
             "colorbar": {
              "outlinewidth": 0,
              "ticks": ""
             }
            },
            "type": "scatter3d"
           }
          ],
          "scattercarpet": [
           {
            "marker": {
             "colorbar": {
              "outlinewidth": 0,
              "ticks": ""
             }
            },
            "type": "scattercarpet"
           }
          ],
          "scattergeo": [
           {
            "marker": {
             "colorbar": {
              "outlinewidth": 0,
              "ticks": ""
             }
            },
            "type": "scattergeo"
           }
          ],
          "scattergl": [
           {
            "marker": {
             "colorbar": {
              "outlinewidth": 0,
              "ticks": ""
             }
            },
            "type": "scattergl"
           }
          ],
          "scattermapbox": [
           {
            "marker": {
             "colorbar": {
              "outlinewidth": 0,
              "ticks": ""
             }
            },
            "type": "scattermapbox"
           }
          ],
          "scatterpolar": [
           {
            "marker": {
             "colorbar": {
              "outlinewidth": 0,
              "ticks": ""
             }
            },
            "type": "scatterpolar"
           }
          ],
          "scatterpolargl": [
           {
            "marker": {
             "colorbar": {
              "outlinewidth": 0,
              "ticks": ""
             }
            },
            "type": "scatterpolargl"
           }
          ],
          "scatterternary": [
           {
            "marker": {
             "colorbar": {
              "outlinewidth": 0,
              "ticks": ""
             }
            },
            "type": "scatterternary"
           }
          ],
          "surface": [
           {
            "colorbar": {
             "outlinewidth": 0,
             "ticks": ""
            },
            "colorscale": [
             [
              0,
              "#0d0887"
             ],
             [
              0.1111111111111111,
              "#46039f"
             ],
             [
              0.2222222222222222,
              "#7201a8"
             ],
             [
              0.3333333333333333,
              "#9c179e"
             ],
             [
              0.4444444444444444,
              "#bd3786"
             ],
             [
              0.5555555555555556,
              "#d8576b"
             ],
             [
              0.6666666666666666,
              "#ed7953"
             ],
             [
              0.7777777777777778,
              "#fb9f3a"
             ],
             [
              0.8888888888888888,
              "#fdca26"
             ],
             [
              1,
              "#f0f921"
             ]
            ],
            "type": "surface"
           }
          ],
          "table": [
           {
            "cells": {
             "fill": {
              "color": "#EBF0F8"
             },
             "line": {
              "color": "white"
             }
            },
            "header": {
             "fill": {
              "color": "#C8D4E3"
             },
             "line": {
              "color": "white"
             }
            },
            "type": "table"
           }
          ]
         },
         "layout": {
          "annotationdefaults": {
           "arrowcolor": "#2a3f5f",
           "arrowhead": 0,
           "arrowwidth": 1
          },
          "autotypenumbers": "strict",
          "coloraxis": {
           "colorbar": {
            "outlinewidth": 0,
            "ticks": ""
           }
          },
          "colorscale": {
           "diverging": [
            [
             0,
             "#8e0152"
            ],
            [
             0.1,
             "#c51b7d"
            ],
            [
             0.2,
             "#de77ae"
            ],
            [
             0.3,
             "#f1b6da"
            ],
            [
             0.4,
             "#fde0ef"
            ],
            [
             0.5,
             "#f7f7f7"
            ],
            [
             0.6,
             "#e6f5d0"
            ],
            [
             0.7,
             "#b8e186"
            ],
            [
             0.8,
             "#7fbc41"
            ],
            [
             0.9,
             "#4d9221"
            ],
            [
             1,
             "#276419"
            ]
           ],
           "sequential": [
            [
             0,
             "#0d0887"
            ],
            [
             0.1111111111111111,
             "#46039f"
            ],
            [
             0.2222222222222222,
             "#7201a8"
            ],
            [
             0.3333333333333333,
             "#9c179e"
            ],
            [
             0.4444444444444444,
             "#bd3786"
            ],
            [
             0.5555555555555556,
             "#d8576b"
            ],
            [
             0.6666666666666666,
             "#ed7953"
            ],
            [
             0.7777777777777778,
             "#fb9f3a"
            ],
            [
             0.8888888888888888,
             "#fdca26"
            ],
            [
             1,
             "#f0f921"
            ]
           ],
           "sequentialminus": [
            [
             0,
             "#0d0887"
            ],
            [
             0.1111111111111111,
             "#46039f"
            ],
            [
             0.2222222222222222,
             "#7201a8"
            ],
            [
             0.3333333333333333,
             "#9c179e"
            ],
            [
             0.4444444444444444,
             "#bd3786"
            ],
            [
             0.5555555555555556,
             "#d8576b"
            ],
            [
             0.6666666666666666,
             "#ed7953"
            ],
            [
             0.7777777777777778,
             "#fb9f3a"
            ],
            [
             0.8888888888888888,
             "#fdca26"
            ],
            [
             1,
             "#f0f921"
            ]
           ]
          },
          "colorway": [
           "#636efa",
           "#EF553B",
           "#00cc96",
           "#ab63fa",
           "#FFA15A",
           "#19d3f3",
           "#FF6692",
           "#B6E880",
           "#FF97FF",
           "#FECB52"
          ],
          "font": {
           "color": "#2a3f5f"
          },
          "geo": {
           "bgcolor": "white",
           "lakecolor": "white",
           "landcolor": "#E5ECF6",
           "showlakes": true,
           "showland": true,
           "subunitcolor": "white"
          },
          "hoverlabel": {
           "align": "left"
          },
          "hovermode": "closest",
          "mapbox": {
           "style": "light"
          },
          "paper_bgcolor": "white",
          "plot_bgcolor": "#E5ECF6",
          "polar": {
           "angularaxis": {
            "gridcolor": "white",
            "linecolor": "white",
            "ticks": ""
           },
           "bgcolor": "#E5ECF6",
           "radialaxis": {
            "gridcolor": "white",
            "linecolor": "white",
            "ticks": ""
           }
          },
          "scene": {
           "xaxis": {
            "backgroundcolor": "#E5ECF6",
            "gridcolor": "white",
            "gridwidth": 2,
            "linecolor": "white",
            "showbackground": true,
            "ticks": "",
            "zerolinecolor": "white"
           },
           "yaxis": {
            "backgroundcolor": "#E5ECF6",
            "gridcolor": "white",
            "gridwidth": 2,
            "linecolor": "white",
            "showbackground": true,
            "ticks": "",
            "zerolinecolor": "white"
           },
           "zaxis": {
            "backgroundcolor": "#E5ECF6",
            "gridcolor": "white",
            "gridwidth": 2,
            "linecolor": "white",
            "showbackground": true,
            "ticks": "",
            "zerolinecolor": "white"
           }
          },
          "shapedefaults": {
           "line": {
            "color": "#2a3f5f"
           }
          },
          "ternary": {
           "aaxis": {
            "gridcolor": "white",
            "linecolor": "white",
            "ticks": ""
           },
           "baxis": {
            "gridcolor": "white",
            "linecolor": "white",
            "ticks": ""
           },
           "bgcolor": "#E5ECF6",
           "caxis": {
            "gridcolor": "white",
            "linecolor": "white",
            "ticks": ""
           }
          },
          "title": {
           "x": 0.05
          },
          "xaxis": {
           "automargin": true,
           "gridcolor": "white",
           "linecolor": "white",
           "ticks": "",
           "title": {
            "standoff": 15
           },
           "zerolinecolor": "white",
           "zerolinewidth": 2
          },
          "yaxis": {
           "automargin": true,
           "gridcolor": "white",
           "linecolor": "white",
           "ticks": "",
           "title": {
            "standoff": 15
           },
           "zerolinecolor": "white",
           "zerolinewidth": 2
          }
         }
        },
        "title": {
         "text": "Incredibuild Attrition Rate per Year per Function"
        },
        "xaxis": {
         "title": {
          "text": "Year"
         }
        },
        "yaxis": {
         "title": {
          "text": "Attrition Rate"
         }
        }
       }
      }
     },
     "metadata": {},
     "output_type": "display_data"
    }
   ],
   "source": [
    "# Data Preprocessing\n",
    "\n",
    "# Converting 'start_date' and 'end_date' to datetime format\n",
    "data['start_date'] = pd.to_datetime(data['start_date'], format='%d/%m/%Y')\n",
    "data['end_date'] = pd.to_datetime(data['end_date'], format='%d/%m/%Y', errors='coerce')\n",
    "\n",
    "# Filling NaN values in 'end_date' with a placeholder far future date for ongoing employment\n",
    "data['end_date'].fillna(pd.Timestamp('2025-01-01'), inplace=True)\n",
    "\n",
    "# Extracting year, month, and quarter from dates\n",
    "data['Start Year'] = data['start_date'].dt.year\n",
    "data['Termination Year'] = data['end_date'].dt.year\n",
    "\n",
    "# Function to compute attrition rate\n",
    "def compute_attrition(data, function):\n",
    "    # Filter data for the function\n",
    "    function_data = data[data['odp_function'] == function]\n",
    "    years = sorted(function_data['Start Year'].unique())\n",
    "    attrition_rates = {}\n",
    "    \n",
    "    for year in years:\n",
    "        # Employees at the start of the year\n",
    "        start_count = function_data[function_data['Start Year'] <= year].shape[0]\n",
    "        # Employees terminated during the year\n",
    "        term_count = function_data[(function_data['Termination Year'] == year) & (function_data['Start Year'] <= year)].shape[0]\n",
    "        # Attrition rate\n",
    "        attrition_rates[year] = term_count / start_count if start_count > 0 else 0\n",
    "    \n",
    "    return attrition_rates\n",
    "\n",
    "# Compute attrition rates for all functions\n",
    "functions = data['odp_function'].unique()\n",
    "function_attrition = {function: compute_attrition(data, function) for function in functions}\n",
    "\n",
    "# Save the attrition rates to an Excel file\n",
    "with pd.ExcelWriter('attrition_rates_by_function.xlsx') as writer:\n",
    "    for function, rates in function_attrition.items():\n",
    "        # Convert function to string and handle NaN values\n",
    "        function_str = str(function) if pd.notnull(function) else 'Unknown Function'\n",
    "        # Ensure the sheet name is not longer than 31 characters\n",
    "        function_str = function_str[:31]\n",
    "        \n",
    "        attrition_df = pd.DataFrame(list(rates.items()), columns=['Year', 'Attrition Rate'])\n",
    "        attrition_df.to_excel(writer, sheet_name=function_str, index=False)\n",
    "\n",
    "\n",
    "# Create a figure with subplots\n",
    "fig = go.Figure()\n",
    "\n",
    "# Add a trace for each function\n",
    "for function, attrition in function_attrition.items():\n",
    "    fig.add_trace(go.Scatter(\n",
    "        x=list(attrition.keys()),\n",
    "        y=list(attrition.values()),\n",
    "        mode='lines+markers',\n",
    "        name=function\n",
    "    ))\n",
    "\n",
    "# Update layout\n",
    "fig.update_layout(\n",
    "    title='Incredibuild Attrition Rate per Year per Function',\n",
    "    xaxis_title='Year',\n",
    "    yaxis_title='Attrition Rate',\n",
    "    legend_title='Function'\n",
    ")\n",
    "\n",
    "# Show the figure\n",
    "fig.show()\n"
   ]
  },
  {
   "cell_type": "code",
   "execution_count": 12,
   "metadata": {},
   "outputs": [],
   "source": [
    "# Data Preprocessing\n",
    "\n",
    "# Ensure the 'start_date' and 'end_date' are in datetime format\n",
    "# Using infer_datetime_format to automatically detect the format\n",
    "data_companies['start_date'] = pd.to_datetime(data_companies['start_date'], errors='coerce', dayfirst=True)\n",
    "data_companies['end_date'] = pd.to_datetime(data_companies['end_date'], errors='coerce', dayfirst=True)\n",
    "\n",
    "# Fill NaN values in 'end_date'\n",
    "data_companies['end_date'].fillna(pd.Timestamp('2025-01-01'), inplace=True)\n",
    "\n",
    "# Extract years from 'start_date' and 'end_date'\n",
    "data_companies['Start Year'] = data_companies['start_date'].dt.year\n",
    "data_companies['Termination Year'] = data_companies['end_date'].dt.year\n",
    "\n",
    "# Function to compute attrition rate\n",
    "def compute_attrition(data, company, function):\n",
    "    # Filter data for the company and function\n",
    "    function_data = data[(data['company'] == company) & (data['odp_function'] == function)]\n",
    "    years = sorted(function_data['Start Year'].unique())\n",
    "    attrition_rates = {}\n",
    "    \n",
    "    for year in years:\n",
    "        # Employees at the start of the year\n",
    "        start_count = function_data[function_data['Start Year'] <= year].shape[0]\n",
    "        # Employees terminated during the year\n",
    "        term_count = function_data[(function_data['Termination Year'] == year) & (function_data['Start Year'] <= year)].shape[0]\n",
    "        # Attrition rate\n",
    "        attrition_rates[year] = term_count / start_count if start_count > 0 else 0\n",
    "    \n",
    "    return attrition_rates\n",
    "\n",
    "# Compute attrition rates for all companies and functions\n",
    "companies = data_companies['company'].unique()\n",
    "functions = data_companies['odp_function'].unique()\n",
    "\n",
    "# Save the attrition rates to an Excel file\n",
    "with pd.ExcelWriter('attrition_rates_by_company_and_function.xlsx') as writer:\n",
    "    for company in companies:\n",
    "        for function in functions:\n",
    "            attrition_rates = compute_attrition(data_companies, company, function)\n",
    "            attrition_df = pd.DataFrame(list(attrition_rates.items()), columns=['Year', 'Attrition Rate'])\n",
    "            # Ensure the sheet name is not longer than 31 characters\n",
    "            sheet_name = f\"{company}_{function}\"[:31]\n",
    "            # Write to sheet\n",
    "            attrition_df.to_excel(writer, sheet_name=sheet_name, index=False)"
   ]
  },
  {
   "cell_type": "code",
   "execution_count": 13,
   "metadata": {},
   "outputs": [],
   "source": [
    "# Function to compute average attrition rate per year for each function\n",
    "def compute_avg_attrition(data, function):\n",
    "    function_data = data[data['odp_function'] == function]\n",
    "    attrition_rates = {}\n",
    "\n",
    "    for year in np.sort(function_data['Start Year'].unique()):\n",
    "        year_data = function_data[function_data['Start Year'] <= year]\n",
    "        start_count = year_data.shape[0]\n",
    "        term_count = year_data[(year_data['Termination Year'] == year) & (year_data['Start Year'] <= year)].shape[0]\n",
    "        attrition_rate = term_count / start_count if start_count > 0 else 0\n",
    "        attrition_rates[year] = attrition_rate\n",
    "\n",
    "    return attrition_rates\n",
    "\n",
    "# Compute average attrition rates for each function\n",
    "functions = data_companies['odp_function'].unique()\n",
    "function_attrition = {function: compute_avg_attrition(data_companies, function) for function in functions}\n",
    "\n",
    "# Save the average attrition rates to an Excel file\n",
    "with pd.ExcelWriter('average_attrition_rates_by_function.xlsx') as writer:\n",
    "    for function, rates in function_attrition.items():\n",
    "        attrition_df = pd.DataFrame(list(rates.items()), columns=['Year', 'Average Attrition Rate'])\n",
    "        # Ensure the sheet name is not longer than 31 characters\n",
    "        sheet_name = str(function)[:31] if pd.notnull(function) else 'Unknown Function'\n",
    "        # Write to sheet\n",
    "        attrition_df.to_excel(writer, sheet_name=sheet_name, index=False)"
   ]
  },
  {
   "cell_type": "markdown",
   "metadata": {},
   "source": [
    "# For all companies"
   ]
  },
  {
   "cell_type": "code",
   "execution_count": 13,
   "metadata": {},
   "outputs": [
    {
     "data": {
      "text/html": [
       "<div>\n",
       "<style scoped>\n",
       "    .dataframe tbody tr th:only-of-type {\n",
       "        vertical-align: middle;\n",
       "    }\n",
       "\n",
       "    .dataframe tbody tr th {\n",
       "        vertical-align: top;\n",
       "    }\n",
       "\n",
       "    .dataframe thead th {\n",
       "        text-align: right;\n",
       "    }\n",
       "</style>\n",
       "<table border=\"1\" class=\"dataframe\">\n",
       "  <thead>\n",
       "    <tr style=\"text-align: right;\">\n",
       "      <th></th>\n",
       "      <th>profile_id</th>\n",
       "      <th>sequence_nbr</th>\n",
       "      <th>start_date</th>\n",
       "      <th>end_date</th>\n",
       "      <th>company</th>\n",
       "      <th>title</th>\n",
       "      <th>country</th>\n",
       "      <th>region</th>\n",
       "      <th>location</th>\n",
       "      <th>is_title_d_and_a</th>\n",
       "      <th>...</th>\n",
       "      <th>tk_title_standardized_class</th>\n",
       "      <th>is_title_manager</th>\n",
       "      <th>odp_function</th>\n",
       "      <th>mck_function</th>\n",
       "      <th>Start Year</th>\n",
       "      <th>Start Month</th>\n",
       "      <th>Start Quarter</th>\n",
       "      <th>Termination Year</th>\n",
       "      <th>Termination Month</th>\n",
       "      <th>Termination Quarter</th>\n",
       "    </tr>\n",
       "  </thead>\n",
       "  <tbody>\n",
       "    <tr>\n",
       "      <th>0</th>\n",
       "      <td>d4333688-c76f-4ccf-822c-1e926295cc81</td>\n",
       "      <td>2</td>\n",
       "      <td>2011-01-01</td>\n",
       "      <td>2025-01-01</td>\n",
       "      <td>Global-e Ltd.</td>\n",
       "      <td>Supervisor</td>\n",
       "      <td>Argentina</td>\n",
       "      <td>NaN</td>\n",
       "      <td>NaN</td>\n",
       "      <td>False</td>\n",
       "      <td>...</td>\n",
       "      <td>Other</td>\n",
       "      <td>False</td>\n",
       "      <td>Digital &amp; Analytics</td>\n",
       "      <td>Analytics</td>\n",
       "      <td>2011.0</td>\n",
       "      <td>2011-01</td>\n",
       "      <td>2011Q1</td>\n",
       "      <td>2025</td>\n",
       "      <td>2025-01</td>\n",
       "      <td>2025Q1</td>\n",
       "    </tr>\n",
       "    <tr>\n",
       "      <th>1</th>\n",
       "      <td>0f8cba01-fdd6-4eb9-b1d4-376a73fb3de4</td>\n",
       "      <td>10</td>\n",
       "      <td>2021-01-09</td>\n",
       "      <td>2025-01-01</td>\n",
       "      <td>Deel</td>\n",
       "      <td>Marketing Director LATAM</td>\n",
       "      <td>Argentina</td>\n",
       "      <td>Buenos Aires</td>\n",
       "      <td>NaN</td>\n",
       "      <td>False</td>\n",
       "      <td>...</td>\n",
       "      <td>NaN</td>\n",
       "      <td>True</td>\n",
       "      <td>Marketing &amp; Sales</td>\n",
       "      <td>Marketing</td>\n",
       "      <td>2021.0</td>\n",
       "      <td>2021-01</td>\n",
       "      <td>2021Q1</td>\n",
       "      <td>2025</td>\n",
       "      <td>2025-01</td>\n",
       "      <td>2025Q1</td>\n",
       "    </tr>\n",
       "    <tr>\n",
       "      <th>2</th>\n",
       "      <td>13697700-11c0-4567-ab56-03623236db1d</td>\n",
       "      <td>6</td>\n",
       "      <td>2022-01-06</td>\n",
       "      <td>2025-01-01</td>\n",
       "      <td>Deel</td>\n",
       "      <td>FinTech Customer Operations Specialist</td>\n",
       "      <td>Argentina</td>\n",
       "      <td>NaN</td>\n",
       "      <td>NaN</td>\n",
       "      <td>False</td>\n",
       "      <td>...</td>\n",
       "      <td>NaN</td>\n",
       "      <td>False</td>\n",
       "      <td>Operations</td>\n",
       "      <td>Operations</td>\n",
       "      <td>2022.0</td>\n",
       "      <td>2022-01</td>\n",
       "      <td>2022Q1</td>\n",
       "      <td>2025</td>\n",
       "      <td>2025-01</td>\n",
       "      <td>2025Q1</td>\n",
       "    </tr>\n",
       "    <tr>\n",
       "      <th>3</th>\n",
       "      <td>d4333688-c76f-4ccf-822c-1e926295cc81</td>\n",
       "      <td>3</td>\n",
       "      <td>2012-01-03</td>\n",
       "      <td>2025-01-01</td>\n",
       "      <td>Global-e Ltd.</td>\n",
       "      <td>Encargado de turnos</td>\n",
       "      <td>Argentina</td>\n",
       "      <td>NaN</td>\n",
       "      <td>NaN</td>\n",
       "      <td>False</td>\n",
       "      <td>...</td>\n",
       "      <td>Sales and Trading</td>\n",
       "      <td>False</td>\n",
       "      <td>Operations</td>\n",
       "      <td>Operations</td>\n",
       "      <td>2012.0</td>\n",
       "      <td>2012-01</td>\n",
       "      <td>2012Q1</td>\n",
       "      <td>2025</td>\n",
       "      <td>2025-01</td>\n",
       "      <td>2025Q1</td>\n",
       "    </tr>\n",
       "    <tr>\n",
       "      <th>4</th>\n",
       "      <td>897a8fa5-4fa1-41f8-bef4-bba5c7a69f2d</td>\n",
       "      <td>4</td>\n",
       "      <td>2014-01-11</td>\n",
       "      <td>2025-01-01</td>\n",
       "      <td>Global-e Ltd.</td>\n",
       "      <td>Analista en RRHH</td>\n",
       "      <td>Argentina</td>\n",
       "      <td>NaN</td>\n",
       "      <td>NaN</td>\n",
       "      <td>False</td>\n",
       "      <td>...</td>\n",
       "      <td>Management, Policy and Governance</td>\n",
       "      <td>False</td>\n",
       "      <td>Marketing &amp; Sales</td>\n",
       "      <td>Communications</td>\n",
       "      <td>2014.0</td>\n",
       "      <td>2014-01</td>\n",
       "      <td>2014Q1</td>\n",
       "      <td>2025</td>\n",
       "      <td>2025-01</td>\n",
       "      <td>2025Q1</td>\n",
       "    </tr>\n",
       "  </tbody>\n",
       "</table>\n",
       "<p>5 rows × 24 columns</p>\n",
       "</div>"
      ],
      "text/plain": [
       "                             profile_id  sequence_nbr start_date   end_date  \\\n",
       "0  d4333688-c76f-4ccf-822c-1e926295cc81             2 2011-01-01 2025-01-01   \n",
       "1  0f8cba01-fdd6-4eb9-b1d4-376a73fb3de4            10 2021-01-09 2025-01-01   \n",
       "2  13697700-11c0-4567-ab56-03623236db1d             6 2022-01-06 2025-01-01   \n",
       "3  d4333688-c76f-4ccf-822c-1e926295cc81             3 2012-01-03 2025-01-01   \n",
       "4  897a8fa5-4fa1-41f8-bef4-bba5c7a69f2d             4 2014-01-11 2025-01-01   \n",
       "\n",
       "         company                                   title    country  \\\n",
       "0  Global-e Ltd.                              Supervisor  Argentina   \n",
       "1           Deel                Marketing Director LATAM  Argentina   \n",
       "2           Deel  FinTech Customer Operations Specialist  Argentina   \n",
       "3  Global-e Ltd.                     Encargado de turnos  Argentina   \n",
       "4  Global-e Ltd.                        Analista en RRHH  Argentina   \n",
       "\n",
       "         region location is_title_d_and_a  ...  \\\n",
       "0           NaN      NaN            False  ...   \n",
       "1  Buenos Aires      NaN            False  ...   \n",
       "2           NaN      NaN            False  ...   \n",
       "3           NaN      NaN            False  ...   \n",
       "4           NaN      NaN            False  ...   \n",
       "\n",
       "         tk_title_standardized_class is_title_manager         odp_function  \\\n",
       "0                              Other            False  Digital & Analytics   \n",
       "1                                NaN             True    Marketing & Sales   \n",
       "2                                NaN            False           Operations   \n",
       "3                  Sales and Trading            False           Operations   \n",
       "4  Management, Policy and Governance            False    Marketing & Sales   \n",
       "\n",
       "     mck_function Start Year Start Month Start Quarter Termination Year  \\\n",
       "0       Analytics     2011.0     2011-01        2011Q1             2025   \n",
       "1       Marketing     2021.0     2021-01        2021Q1             2025   \n",
       "2      Operations     2022.0     2022-01        2022Q1             2025   \n",
       "3      Operations     2012.0     2012-01        2012Q1             2025   \n",
       "4  Communications     2014.0     2014-01        2014Q1             2025   \n",
       "\n",
       "   Termination Month Termination Quarter  \n",
       "0            2025-01              2025Q1  \n",
       "1            2025-01              2025Q1  \n",
       "2            2025-01              2025Q1  \n",
       "3            2025-01              2025Q1  \n",
       "4            2025-01              2025Q1  \n",
       "\n",
       "[5 rows x 24 columns]"
      ]
     },
     "execution_count": 13,
     "metadata": {},
     "output_type": "execute_result"
    }
   ],
   "source": [
    "data_companies.head()"
   ]
  },
  {
   "cell_type": "code",
   "execution_count": 7,
   "metadata": {},
   "outputs": [],
   "source": [
    "# Data Preprocessing\n",
    "# Converting 'start_date' and 'end_date' to datetime format\n",
    "data_companies['start_date'] = pd.to_datetime(data_companies['start_date'], format='%d/%m/%Y', errors='coerce')\n",
    "data_companies['end_date'] = pd.to_datetime(data_companies['end_date'], format='%d/%m/%Y', errors='coerce')\n",
    "\n",
    "# Filling NaN values in 'end_date' with a placeholder far future date for ongoing employment\n",
    "data_companies['end_date'].fillna(pd.Timestamp('2025-01-01'), inplace=True)\n",
    "\n",
    "\n",
    "\n",
    "# Create a Pandas Excel writer\n",
    "excel_file_path = '../../../data/Incredibuild/HRIS/attrition_and_headcount_data_all_companies.xlsx'\n",
    "writer = pd.ExcelWriter(excel_file_path, engine='xlsxwriter')\n",
    "\n",
    "\n",
    "# Extracting year, month, and quarter from dates\n",
    "data_companies['Start Year'] = data_companies['start_date'].dt.year\n",
    "data_companies['Start Month'] = data_companies['start_date'].dt.to_period('M')\n",
    "data_companies['Start Quarter'] = data_companies['start_date'].dt.to_period('Q')\n",
    "data_companies['Termination Year'] = data_companies['end_date'].dt.year\n",
    "data_companies['Termination Month'] = data_companies['end_date'].dt.to_period('M')\n",
    "data_companies['Termination Quarter'] = data_companies['end_date'].dt.to_period('Q')\n",
    "\n",
    "# Function to compute headcount and attrition rates\n",
    "def compute_headcount_and_attrition(data, period):\n",
    "    time_periods = sorted(data[f'Start {period}'].unique())\n",
    "    headcount = {}\n",
    "    attrition_rates = {}\n",
    "\n",
    "    for tp in time_periods:\n",
    "        current_employees = data[(data[f'Start {period}'] <= tp) & (data[f'Termination {period}'].isna() | (data[f'Termination {period}'] >= tp))]\n",
    "        headcount[tp] = current_employees.shape[0]\n",
    "        terminations = current_employees[current_employees[f'Termination {period}'] == tp].shape[0]\n",
    "        attrition_rates[tp] = terminations / headcount[tp] if headcount[tp] > 0 else 0\n",
    "\n",
    "    return headcount, attrition_rates\n",
    "\n",
    "# Iterate over each company and perform analysis\n",
    "for company in data_companies['company'].unique():\n",
    "    company_data = data_companies[data_companies['company'] == company]\n",
    "\n",
    "    # Calculate headcount and attrition for each period\n",
    "    monthly_headcount, monthly_attrition = compute_headcount_and_attrition(company_data, 'Month')\n",
    "    quarterly_headcount, quarterly_attrition = compute_headcount_and_attrition(company_data, 'Quarter')\n",
    "    yearly_headcount, yearly_attrition = compute_headcount_and_attrition(company_data, 'Year')\n",
    "\n",
    "    # Convert to DataFrame and save to Excel\n",
    "    monthly_df = pd.DataFrame({'Headcount': monthly_headcount, 'Attrition Rate': monthly_attrition})\n",
    "    quarterly_df = pd.DataFrame({'Headcount': quarterly_headcount, 'Attrition Rate': quarterly_attrition})\n",
    "    yearly_df = pd.DataFrame({'Headcount': yearly_headcount, 'Attrition Rate': yearly_attrition})\n",
    "\n",
    "\n",
    "    yearly_df.to_excel(writer, sheet_name=f'{company} Yearly')\n",
    "\n",
    "# Save and close the writer\n",
    "writer.close()"
   ]
  },
  {
   "cell_type": "markdown",
   "metadata": {},
   "source": [
    "# Benchmark analysis"
   ]
  },
  {
   "cell_type": "code",
   "execution_count": 10,
   "metadata": {},
   "outputs": [
    {
     "data": {
      "application/vnd.plotly.v1+json": {
       "config": {
        "plotlyServerURL": "https://plot.ly"
       },
       "data": [
        {
         "marker": {
          "color": "blue"
         },
         "name": "Incredibuild",
         "type": "bar",
         "x": [
          2002,
          2007,
          2008,
          2009,
          2010,
          2011,
          2012,
          2013,
          2014,
          2015,
          2016,
          2017,
          2018,
          2019,
          2020,
          2021,
          2022,
          2023
         ],
         "y": [
          0,
          0,
          0.25,
          0,
          0.2,
          0.1111111111111111,
          0.07692307692307693,
          0.125,
          0.05555555555555555,
          0.1739130434782609,
          0.1851851851851852,
          0.06451612903225806,
          0.1568627450980392,
          0.2272727272727273,
          0.2300884955752212,
          0.2575757575757576,
          0.2062256809338521,
          0.103448275862069
         ]
        },
        {
         "marker": {
          "color": "orange"
         },
         "name": "All Companies Average",
         "type": "bar",
         "x": [
          1962,
          1977,
          1980,
          1982,
          1985,
          1986,
          1987,
          1988,
          1989,
          1990,
          1991,
          1992,
          1993,
          1994,
          1995,
          1996,
          1997,
          1998,
          1999,
          2000,
          2001,
          2002,
          2003,
          2004,
          2005,
          2006,
          2007,
          2008,
          2009,
          2010,
          2011,
          2012,
          2013,
          2014,
          2015,
          2016,
          2017,
          2018,
          2019,
          2020,
          2021,
          2022,
          2023
         ],
         "y": [
          0,
          0,
          0,
          0,
          0,
          0,
          0,
          0,
          0,
          0,
          0,
          0.045454545454545456,
          0,
          0.06249999999999999,
          0.24234234234234234,
          0.1130952380952381,
          0.2333333333333333,
          0.08055555555555556,
          0.03076923076923078,
          0.13329670329670332,
          0.058441558441558426,
          0.04388888888888889,
          0.1288693385467579,
          0.325,
          0.07548076923076924,
          0.09768659236744344,
          0.12633712905452035,
          0.058615268539049026,
          0.08921739748530991,
          0.11060605076230076,
          0.13449454388006254,
          0.08746188348338331,
          0.14085549834557912,
          0.14804226715138583,
          0.1403412264491196,
          0.1558959836089336,
          0.19063911142483536,
          0.19309468961771978,
          0.1950394201442134,
          0.19075857509046493,
          0.1985541249933801,
          0.17462441455129507,
          0.026017582080914505
         ]
        }
       ],
       "layout": {
        "barmode": "group",
        "template": {
         "data": {
          "bar": [
           {
            "error_x": {
             "color": "#2a3f5f"
            },
            "error_y": {
             "color": "#2a3f5f"
            },
            "marker": {
             "line": {
              "color": "#E5ECF6",
              "width": 0.5
             },
             "pattern": {
              "fillmode": "overlay",
              "size": 10,
              "solidity": 0.2
             }
            },
            "type": "bar"
           }
          ],
          "barpolar": [
           {
            "marker": {
             "line": {
              "color": "#E5ECF6",
              "width": 0.5
             },
             "pattern": {
              "fillmode": "overlay",
              "size": 10,
              "solidity": 0.2
             }
            },
            "type": "barpolar"
           }
          ],
          "carpet": [
           {
            "aaxis": {
             "endlinecolor": "#2a3f5f",
             "gridcolor": "white",
             "linecolor": "white",
             "minorgridcolor": "white",
             "startlinecolor": "#2a3f5f"
            },
            "baxis": {
             "endlinecolor": "#2a3f5f",
             "gridcolor": "white",
             "linecolor": "white",
             "minorgridcolor": "white",
             "startlinecolor": "#2a3f5f"
            },
            "type": "carpet"
           }
          ],
          "choropleth": [
           {
            "colorbar": {
             "outlinewidth": 0,
             "ticks": ""
            },
            "type": "choropleth"
           }
          ],
          "contour": [
           {
            "colorbar": {
             "outlinewidth": 0,
             "ticks": ""
            },
            "colorscale": [
             [
              0,
              "#0d0887"
             ],
             [
              0.1111111111111111,
              "#46039f"
             ],
             [
              0.2222222222222222,
              "#7201a8"
             ],
             [
              0.3333333333333333,
              "#9c179e"
             ],
             [
              0.4444444444444444,
              "#bd3786"
             ],
             [
              0.5555555555555556,
              "#d8576b"
             ],
             [
              0.6666666666666666,
              "#ed7953"
             ],
             [
              0.7777777777777778,
              "#fb9f3a"
             ],
             [
              0.8888888888888888,
              "#fdca26"
             ],
             [
              1,
              "#f0f921"
             ]
            ],
            "type": "contour"
           }
          ],
          "contourcarpet": [
           {
            "colorbar": {
             "outlinewidth": 0,
             "ticks": ""
            },
            "type": "contourcarpet"
           }
          ],
          "heatmap": [
           {
            "colorbar": {
             "outlinewidth": 0,
             "ticks": ""
            },
            "colorscale": [
             [
              0,
              "#0d0887"
             ],
             [
              0.1111111111111111,
              "#46039f"
             ],
             [
              0.2222222222222222,
              "#7201a8"
             ],
             [
              0.3333333333333333,
              "#9c179e"
             ],
             [
              0.4444444444444444,
              "#bd3786"
             ],
             [
              0.5555555555555556,
              "#d8576b"
             ],
             [
              0.6666666666666666,
              "#ed7953"
             ],
             [
              0.7777777777777778,
              "#fb9f3a"
             ],
             [
              0.8888888888888888,
              "#fdca26"
             ],
             [
              1,
              "#f0f921"
             ]
            ],
            "type": "heatmap"
           }
          ],
          "heatmapgl": [
           {
            "colorbar": {
             "outlinewidth": 0,
             "ticks": ""
            },
            "colorscale": [
             [
              0,
              "#0d0887"
             ],
             [
              0.1111111111111111,
              "#46039f"
             ],
             [
              0.2222222222222222,
              "#7201a8"
             ],
             [
              0.3333333333333333,
              "#9c179e"
             ],
             [
              0.4444444444444444,
              "#bd3786"
             ],
             [
              0.5555555555555556,
              "#d8576b"
             ],
             [
              0.6666666666666666,
              "#ed7953"
             ],
             [
              0.7777777777777778,
              "#fb9f3a"
             ],
             [
              0.8888888888888888,
              "#fdca26"
             ],
             [
              1,
              "#f0f921"
             ]
            ],
            "type": "heatmapgl"
           }
          ],
          "histogram": [
           {
            "marker": {
             "pattern": {
              "fillmode": "overlay",
              "size": 10,
              "solidity": 0.2
             }
            },
            "type": "histogram"
           }
          ],
          "histogram2d": [
           {
            "colorbar": {
             "outlinewidth": 0,
             "ticks": ""
            },
            "colorscale": [
             [
              0,
              "#0d0887"
             ],
             [
              0.1111111111111111,
              "#46039f"
             ],
             [
              0.2222222222222222,
              "#7201a8"
             ],
             [
              0.3333333333333333,
              "#9c179e"
             ],
             [
              0.4444444444444444,
              "#bd3786"
             ],
             [
              0.5555555555555556,
              "#d8576b"
             ],
             [
              0.6666666666666666,
              "#ed7953"
             ],
             [
              0.7777777777777778,
              "#fb9f3a"
             ],
             [
              0.8888888888888888,
              "#fdca26"
             ],
             [
              1,
              "#f0f921"
             ]
            ],
            "type": "histogram2d"
           }
          ],
          "histogram2dcontour": [
           {
            "colorbar": {
             "outlinewidth": 0,
             "ticks": ""
            },
            "colorscale": [
             [
              0,
              "#0d0887"
             ],
             [
              0.1111111111111111,
              "#46039f"
             ],
             [
              0.2222222222222222,
              "#7201a8"
             ],
             [
              0.3333333333333333,
              "#9c179e"
             ],
             [
              0.4444444444444444,
              "#bd3786"
             ],
             [
              0.5555555555555556,
              "#d8576b"
             ],
             [
              0.6666666666666666,
              "#ed7953"
             ],
             [
              0.7777777777777778,
              "#fb9f3a"
             ],
             [
              0.8888888888888888,
              "#fdca26"
             ],
             [
              1,
              "#f0f921"
             ]
            ],
            "type": "histogram2dcontour"
           }
          ],
          "mesh3d": [
           {
            "colorbar": {
             "outlinewidth": 0,
             "ticks": ""
            },
            "type": "mesh3d"
           }
          ],
          "parcoords": [
           {
            "line": {
             "colorbar": {
              "outlinewidth": 0,
              "ticks": ""
             }
            },
            "type": "parcoords"
           }
          ],
          "pie": [
           {
            "automargin": true,
            "type": "pie"
           }
          ],
          "scatter": [
           {
            "fillpattern": {
             "fillmode": "overlay",
             "size": 10,
             "solidity": 0.2
            },
            "type": "scatter"
           }
          ],
          "scatter3d": [
           {
            "line": {
             "colorbar": {
              "outlinewidth": 0,
              "ticks": ""
             }
            },
            "marker": {
             "colorbar": {
              "outlinewidth": 0,
              "ticks": ""
             }
            },
            "type": "scatter3d"
           }
          ],
          "scattercarpet": [
           {
            "marker": {
             "colorbar": {
              "outlinewidth": 0,
              "ticks": ""
             }
            },
            "type": "scattercarpet"
           }
          ],
          "scattergeo": [
           {
            "marker": {
             "colorbar": {
              "outlinewidth": 0,
              "ticks": ""
             }
            },
            "type": "scattergeo"
           }
          ],
          "scattergl": [
           {
            "marker": {
             "colorbar": {
              "outlinewidth": 0,
              "ticks": ""
             }
            },
            "type": "scattergl"
           }
          ],
          "scattermapbox": [
           {
            "marker": {
             "colorbar": {
              "outlinewidth": 0,
              "ticks": ""
             }
            },
            "type": "scattermapbox"
           }
          ],
          "scatterpolar": [
           {
            "marker": {
             "colorbar": {
              "outlinewidth": 0,
              "ticks": ""
             }
            },
            "type": "scatterpolar"
           }
          ],
          "scatterpolargl": [
           {
            "marker": {
             "colorbar": {
              "outlinewidth": 0,
              "ticks": ""
             }
            },
            "type": "scatterpolargl"
           }
          ],
          "scatterternary": [
           {
            "marker": {
             "colorbar": {
              "outlinewidth": 0,
              "ticks": ""
             }
            },
            "type": "scatterternary"
           }
          ],
          "surface": [
           {
            "colorbar": {
             "outlinewidth": 0,
             "ticks": ""
            },
            "colorscale": [
             [
              0,
              "#0d0887"
             ],
             [
              0.1111111111111111,
              "#46039f"
             ],
             [
              0.2222222222222222,
              "#7201a8"
             ],
             [
              0.3333333333333333,
              "#9c179e"
             ],
             [
              0.4444444444444444,
              "#bd3786"
             ],
             [
              0.5555555555555556,
              "#d8576b"
             ],
             [
              0.6666666666666666,
              "#ed7953"
             ],
             [
              0.7777777777777778,
              "#fb9f3a"
             ],
             [
              0.8888888888888888,
              "#fdca26"
             ],
             [
              1,
              "#f0f921"
             ]
            ],
            "type": "surface"
           }
          ],
          "table": [
           {
            "cells": {
             "fill": {
              "color": "#EBF0F8"
             },
             "line": {
              "color": "white"
             }
            },
            "header": {
             "fill": {
              "color": "#C8D4E3"
             },
             "line": {
              "color": "white"
             }
            },
            "type": "table"
           }
          ]
         },
         "layout": {
          "annotationdefaults": {
           "arrowcolor": "#2a3f5f",
           "arrowhead": 0,
           "arrowwidth": 1
          },
          "autotypenumbers": "strict",
          "coloraxis": {
           "colorbar": {
            "outlinewidth": 0,
            "ticks": ""
           }
          },
          "colorscale": {
           "diverging": [
            [
             0,
             "#8e0152"
            ],
            [
             0.1,
             "#c51b7d"
            ],
            [
             0.2,
             "#de77ae"
            ],
            [
             0.3,
             "#f1b6da"
            ],
            [
             0.4,
             "#fde0ef"
            ],
            [
             0.5,
             "#f7f7f7"
            ],
            [
             0.6,
             "#e6f5d0"
            ],
            [
             0.7,
             "#b8e186"
            ],
            [
             0.8,
             "#7fbc41"
            ],
            [
             0.9,
             "#4d9221"
            ],
            [
             1,
             "#276419"
            ]
           ],
           "sequential": [
            [
             0,
             "#0d0887"
            ],
            [
             0.1111111111111111,
             "#46039f"
            ],
            [
             0.2222222222222222,
             "#7201a8"
            ],
            [
             0.3333333333333333,
             "#9c179e"
            ],
            [
             0.4444444444444444,
             "#bd3786"
            ],
            [
             0.5555555555555556,
             "#d8576b"
            ],
            [
             0.6666666666666666,
             "#ed7953"
            ],
            [
             0.7777777777777778,
             "#fb9f3a"
            ],
            [
             0.8888888888888888,
             "#fdca26"
            ],
            [
             1,
             "#f0f921"
            ]
           ],
           "sequentialminus": [
            [
             0,
             "#0d0887"
            ],
            [
             0.1111111111111111,
             "#46039f"
            ],
            [
             0.2222222222222222,
             "#7201a8"
            ],
            [
             0.3333333333333333,
             "#9c179e"
            ],
            [
             0.4444444444444444,
             "#bd3786"
            ],
            [
             0.5555555555555556,
             "#d8576b"
            ],
            [
             0.6666666666666666,
             "#ed7953"
            ],
            [
             0.7777777777777778,
             "#fb9f3a"
            ],
            [
             0.8888888888888888,
             "#fdca26"
            ],
            [
             1,
             "#f0f921"
            ]
           ]
          },
          "colorway": [
           "#636efa",
           "#EF553B",
           "#00cc96",
           "#ab63fa",
           "#FFA15A",
           "#19d3f3",
           "#FF6692",
           "#B6E880",
           "#FF97FF",
           "#FECB52"
          ],
          "font": {
           "color": "#2a3f5f"
          },
          "geo": {
           "bgcolor": "white",
           "lakecolor": "white",
           "landcolor": "#E5ECF6",
           "showlakes": true,
           "showland": true,
           "subunitcolor": "white"
          },
          "hoverlabel": {
           "align": "left"
          },
          "hovermode": "closest",
          "mapbox": {
           "style": "light"
          },
          "paper_bgcolor": "white",
          "plot_bgcolor": "#E5ECF6",
          "polar": {
           "angularaxis": {
            "gridcolor": "white",
            "linecolor": "white",
            "ticks": ""
           },
           "bgcolor": "#E5ECF6",
           "radialaxis": {
            "gridcolor": "white",
            "linecolor": "white",
            "ticks": ""
           }
          },
          "scene": {
           "xaxis": {
            "backgroundcolor": "#E5ECF6",
            "gridcolor": "white",
            "gridwidth": 2,
            "linecolor": "white",
            "showbackground": true,
            "ticks": "",
            "zerolinecolor": "white"
           },
           "yaxis": {
            "backgroundcolor": "#E5ECF6",
            "gridcolor": "white",
            "gridwidth": 2,
            "linecolor": "white",
            "showbackground": true,
            "ticks": "",
            "zerolinecolor": "white"
           },
           "zaxis": {
            "backgroundcolor": "#E5ECF6",
            "gridcolor": "white",
            "gridwidth": 2,
            "linecolor": "white",
            "showbackground": true,
            "ticks": "",
            "zerolinecolor": "white"
           }
          },
          "shapedefaults": {
           "line": {
            "color": "#2a3f5f"
           }
          },
          "ternary": {
           "aaxis": {
            "gridcolor": "white",
            "linecolor": "white",
            "ticks": ""
           },
           "baxis": {
            "gridcolor": "white",
            "linecolor": "white",
            "ticks": ""
           },
           "bgcolor": "#E5ECF6",
           "caxis": {
            "gridcolor": "white",
            "linecolor": "white",
            "ticks": ""
           }
          },
          "title": {
           "x": 0.05
          },
          "xaxis": {
           "automargin": true,
           "gridcolor": "white",
           "linecolor": "white",
           "ticks": "",
           "title": {
            "standoff": 15
           },
           "zerolinecolor": "white",
           "zerolinewidth": 2
          },
          "yaxis": {
           "automargin": true,
           "gridcolor": "white",
           "linecolor": "white",
           "ticks": "",
           "title": {
            "standoff": 15
           },
           "zerolinecolor": "white",
           "zerolinewidth": 2
          }
         }
        },
        "title": {
         "text": "Attrition Rate Comparison: Incredibuild vs All Companies Average"
        },
        "xaxis": {
         "title": {
          "text": "Year"
         }
        },
        "yaxis": {
         "title": {
          "text": "Attrition Rate (%)"
         }
        }
       }
      }
     },
     "metadata": {},
     "output_type": "display_data"
    }
   ],
   "source": [
    "import pandas as pd\n",
    "import plotly.graph_objects as go\n",
    "\n",
    "# Load the Excel file\n",
    "file_path = '../../../data/Incredibuild/HRIS/attrition_and_headcount_data_all_companies.xlsx'\n",
    "\n",
    "# Read all sheets except the first one\n",
    "all_sheets = pd.read_excel(file_path, sheet_name=None)\n",
    "sheets = list(all_sheets.keys())[1:]  # Exclude the first sheet\n",
    "\n",
    "# Initialize a DataFrame to store aggregated data\n",
    "all_companies_data = pd.DataFrame()\n",
    "\n",
    "# Loop through each sheet and aggregate data\n",
    "for sheet in sheets:\n",
    "    df = all_sheets[sheet]\n",
    "    df.columns = ['Year', 'Headcount', 'Attrition Rate']  # Assign column names\n",
    "    # Aggregate data by year\n",
    "    yearly_data = df.groupby('Year')['Attrition Rate'].mean().reset_index()\n",
    "    all_companies_data = pd.concat([all_companies_data, yearly_data], ignore_index=True)\n",
    "\n",
    "# Calculate average attrition rate per year for all companies\n",
    "average_attrition = all_companies_data.groupby('Year')['Attrition Rate'].mean().reset_index()\n",
    "\n",
    "# Load the Incredibuild data (first sheet)\n",
    "incredibuild_data = pd.read_excel(file_path, sheet_name=0)\n",
    "incredibuild_data.columns = ['Year', 'Headcount', 'Attrition Rate']  # Assign column names\n",
    "# Aggregate data by year\n",
    "incredibuild_yearly = incredibuild_data.groupby('Year')['Attrition Rate'].mean().reset_index()\n",
    "\n",
    "# Plotting using Plotly\n",
    "fig = go.Figure()\n",
    "# Add bar for Incredibuild\n",
    "fig.add_trace(go.Bar(x=incredibuild_yearly['Year'], y=incredibuild_yearly['Attrition Rate'],\n",
    "                     name='Incredibuild', marker_color='blue'))\n",
    "# Add bar for average of all companies\n",
    "fig.add_trace(go.Bar(x=average_attrition['Year'], y=average_attrition['Attrition Rate'],\n",
    "                     name='All Companies Average', marker_color='orange'))\n",
    "\n",
    "# Update layout\n",
    "fig.update_layout(title='Attrition Rate Comparison: Incredibuild vs All Companies Average',\n",
    "                  xaxis_title='Year', yaxis_title='Attrition Rate (%)',\n",
    "                  barmode='group')\n",
    "\n",
    "# Show the plot\n",
    "fig.show()\n"
   ]
  },
  {
   "cell_type": "code",
   "execution_count": 12,
   "metadata": {},
   "outputs": [
    {
     "name": "stdout",
     "output_type": "stream",
     "text": [
      "File saved as ../../../data/Incredibuild/HRIS/incredibuild_vs_average_attrition.xlsx\n"
     ]
    }
   ],
   "source": [
    "# Merge Incredibuild data with the average of all companies\n",
    "merged_data = incredibuild_yearly.merge(average_attrition, on='Year', suffixes=('_Incredibuild', '_Average'))\n",
    "\n",
    "# Rename the columns for clarity\n",
    "merged_data.columns = ['Year', 'Attrition Rate Incredibuild', 'Attrition Rate Average']\n",
    "\n",
    "# Specify the path to save the CSV file\n",
    "output_file_path = '../../../data/Incredibuild/HRIS/incredibuild_vs_average_attrition.xlsx'\n",
    "\n",
    "# Save the merged data to a CSV file\n",
    "merged_data.to_excel(output_file_path, index=False)\n",
    "\n",
    "print(f\"File saved as {output_file_path}\")"
   ]
  },
  {
   "cell_type": "code",
   "execution_count": 18,
   "metadata": {},
   "outputs": [
    {
     "data": {
      "application/vnd.plotly.v1+json": {
       "config": {
        "plotlyServerURL": "https://plot.ly"
       },
       "data": [
        {
         "name": "Executive",
         "type": "bar",
         "x": [
          2022,
          2023,
          2021,
          2020,
          2002,
          2019,
          2011
         ],
         "y": [
          0,
          0,
          0.6666666666666666,
          0,
          0,
          1,
          0.6666666666666666
         ]
        },
        {
         "name": "Marketing & Sales",
         "type": "bar",
         "x": [
          2020,
          2023,
          2019,
          2021,
          2017,
          2018,
          2022,
          2016,
          2010,
          2015,
          2014,
          2013,
          2007,
          2012
         ],
         "y": [
          0.6451612903225806,
          0.9523809523809523,
          0.4444444444444444,
          0.7931034482758621,
          0,
          0.5454545454545454,
          0.7540983606557377,
          1,
          1,
          1.3333333333333333,
          0.5,
          1,
          0,
          0
         ]
        },
        {
         "name": "Operations",
         "type": "bar",
         "x": [
          2015,
          2012,
          2021,
          2014,
          2022,
          2023,
          2013,
          2011,
          2019,
          2020,
          2017,
          2016
         ],
         "y": [
          1,
          0,
          0.5454545454545454,
          0,
          0.3333333333333333,
          0.8,
          0,
          0,
          0.6666666666666666,
          1,
          1,
          1.3333333333333333
         ]
        },
        {
         "name": "Other",
         "type": "bar",
         "x": [
          2022,
          2021,
          2020,
          2012,
          2023,
          2018
         ],
         "y": [
          0.6666666666666666,
          0,
          0.5,
          0,
          1.3333333333333333,
          0
         ]
        },
        {
         "name": "Legal, Risk & HR",
         "type": "bar",
         "x": [
          2016,
          2017,
          2022,
          2021,
          2023,
          2015,
          2020,
          2012,
          2019,
          2018
         ],
         "y": [
          1,
          0,
          0.5454545454545454,
          0.5714285714285714,
          1.5,
          0,
          0.8,
          0,
          1,
          0.6666666666666666
         ]
        },
        {
         "name": "Digital & Analytics",
         "type": "bar",
         "x": [
          2021,
          2023,
          2022,
          2016,
          2018,
          2019,
          2020,
          2017,
          2015
         ],
         "y": [
          0.41025641025641024,
          0.5,
          0.5333333333333333,
          0,
          0.3333333333333333,
          0.6,
          0.8571428571428571,
          1,
          0
         ]
        },
        {
         "name": "Finance",
         "type": "bar",
         "x": [
          2021,
          2019,
          2020,
          2022,
          2018
         ],
         "y": [
          0.8,
          0.6666666666666666,
          0,
          1,
          0
         ]
        }
       ],
       "layout": {
        "barmode": "group",
        "template": {
         "data": {
          "bar": [
           {
            "error_x": {
             "color": "#2a3f5f"
            },
            "error_y": {
             "color": "#2a3f5f"
            },
            "marker": {
             "line": {
              "color": "#E5ECF6",
              "width": 0.5
             },
             "pattern": {
              "fillmode": "overlay",
              "size": 10,
              "solidity": 0.2
             }
            },
            "type": "bar"
           }
          ],
          "barpolar": [
           {
            "marker": {
             "line": {
              "color": "#E5ECF6",
              "width": 0.5
             },
             "pattern": {
              "fillmode": "overlay",
              "size": 10,
              "solidity": 0.2
             }
            },
            "type": "barpolar"
           }
          ],
          "carpet": [
           {
            "aaxis": {
             "endlinecolor": "#2a3f5f",
             "gridcolor": "white",
             "linecolor": "white",
             "minorgridcolor": "white",
             "startlinecolor": "#2a3f5f"
            },
            "baxis": {
             "endlinecolor": "#2a3f5f",
             "gridcolor": "white",
             "linecolor": "white",
             "minorgridcolor": "white",
             "startlinecolor": "#2a3f5f"
            },
            "type": "carpet"
           }
          ],
          "choropleth": [
           {
            "colorbar": {
             "outlinewidth": 0,
             "ticks": ""
            },
            "type": "choropleth"
           }
          ],
          "contour": [
           {
            "colorbar": {
             "outlinewidth": 0,
             "ticks": ""
            },
            "colorscale": [
             [
              0,
              "#0d0887"
             ],
             [
              0.1111111111111111,
              "#46039f"
             ],
             [
              0.2222222222222222,
              "#7201a8"
             ],
             [
              0.3333333333333333,
              "#9c179e"
             ],
             [
              0.4444444444444444,
              "#bd3786"
             ],
             [
              0.5555555555555556,
              "#d8576b"
             ],
             [
              0.6666666666666666,
              "#ed7953"
             ],
             [
              0.7777777777777778,
              "#fb9f3a"
             ],
             [
              0.8888888888888888,
              "#fdca26"
             ],
             [
              1,
              "#f0f921"
             ]
            ],
            "type": "contour"
           }
          ],
          "contourcarpet": [
           {
            "colorbar": {
             "outlinewidth": 0,
             "ticks": ""
            },
            "type": "contourcarpet"
           }
          ],
          "heatmap": [
           {
            "colorbar": {
             "outlinewidth": 0,
             "ticks": ""
            },
            "colorscale": [
             [
              0,
              "#0d0887"
             ],
             [
              0.1111111111111111,
              "#46039f"
             ],
             [
              0.2222222222222222,
              "#7201a8"
             ],
             [
              0.3333333333333333,
              "#9c179e"
             ],
             [
              0.4444444444444444,
              "#bd3786"
             ],
             [
              0.5555555555555556,
              "#d8576b"
             ],
             [
              0.6666666666666666,
              "#ed7953"
             ],
             [
              0.7777777777777778,
              "#fb9f3a"
             ],
             [
              0.8888888888888888,
              "#fdca26"
             ],
             [
              1,
              "#f0f921"
             ]
            ],
            "type": "heatmap"
           }
          ],
          "heatmapgl": [
           {
            "colorbar": {
             "outlinewidth": 0,
             "ticks": ""
            },
            "colorscale": [
             [
              0,
              "#0d0887"
             ],
             [
              0.1111111111111111,
              "#46039f"
             ],
             [
              0.2222222222222222,
              "#7201a8"
             ],
             [
              0.3333333333333333,
              "#9c179e"
             ],
             [
              0.4444444444444444,
              "#bd3786"
             ],
             [
              0.5555555555555556,
              "#d8576b"
             ],
             [
              0.6666666666666666,
              "#ed7953"
             ],
             [
              0.7777777777777778,
              "#fb9f3a"
             ],
             [
              0.8888888888888888,
              "#fdca26"
             ],
             [
              1,
              "#f0f921"
             ]
            ],
            "type": "heatmapgl"
           }
          ],
          "histogram": [
           {
            "marker": {
             "pattern": {
              "fillmode": "overlay",
              "size": 10,
              "solidity": 0.2
             }
            },
            "type": "histogram"
           }
          ],
          "histogram2d": [
           {
            "colorbar": {
             "outlinewidth": 0,
             "ticks": ""
            },
            "colorscale": [
             [
              0,
              "#0d0887"
             ],
             [
              0.1111111111111111,
              "#46039f"
             ],
             [
              0.2222222222222222,
              "#7201a8"
             ],
             [
              0.3333333333333333,
              "#9c179e"
             ],
             [
              0.4444444444444444,
              "#bd3786"
             ],
             [
              0.5555555555555556,
              "#d8576b"
             ],
             [
              0.6666666666666666,
              "#ed7953"
             ],
             [
              0.7777777777777778,
              "#fb9f3a"
             ],
             [
              0.8888888888888888,
              "#fdca26"
             ],
             [
              1,
              "#f0f921"
             ]
            ],
            "type": "histogram2d"
           }
          ],
          "histogram2dcontour": [
           {
            "colorbar": {
             "outlinewidth": 0,
             "ticks": ""
            },
            "colorscale": [
             [
              0,
              "#0d0887"
             ],
             [
              0.1111111111111111,
              "#46039f"
             ],
             [
              0.2222222222222222,
              "#7201a8"
             ],
             [
              0.3333333333333333,
              "#9c179e"
             ],
             [
              0.4444444444444444,
              "#bd3786"
             ],
             [
              0.5555555555555556,
              "#d8576b"
             ],
             [
              0.6666666666666666,
              "#ed7953"
             ],
             [
              0.7777777777777778,
              "#fb9f3a"
             ],
             [
              0.8888888888888888,
              "#fdca26"
             ],
             [
              1,
              "#f0f921"
             ]
            ],
            "type": "histogram2dcontour"
           }
          ],
          "mesh3d": [
           {
            "colorbar": {
             "outlinewidth": 0,
             "ticks": ""
            },
            "type": "mesh3d"
           }
          ],
          "parcoords": [
           {
            "line": {
             "colorbar": {
              "outlinewidth": 0,
              "ticks": ""
             }
            },
            "type": "parcoords"
           }
          ],
          "pie": [
           {
            "automargin": true,
            "type": "pie"
           }
          ],
          "scatter": [
           {
            "fillpattern": {
             "fillmode": "overlay",
             "size": 10,
             "solidity": 0.2
            },
            "type": "scatter"
           }
          ],
          "scatter3d": [
           {
            "line": {
             "colorbar": {
              "outlinewidth": 0,
              "ticks": ""
             }
            },
            "marker": {
             "colorbar": {
              "outlinewidth": 0,
              "ticks": ""
             }
            },
            "type": "scatter3d"
           }
          ],
          "scattercarpet": [
           {
            "marker": {
             "colorbar": {
              "outlinewidth": 0,
              "ticks": ""
             }
            },
            "type": "scattercarpet"
           }
          ],
          "scattergeo": [
           {
            "marker": {
             "colorbar": {
              "outlinewidth": 0,
              "ticks": ""
             }
            },
            "type": "scattergeo"
           }
          ],
          "scattergl": [
           {
            "marker": {
             "colorbar": {
              "outlinewidth": 0,
              "ticks": ""
             }
            },
            "type": "scattergl"
           }
          ],
          "scattermapbox": [
           {
            "marker": {
             "colorbar": {
              "outlinewidth": 0,
              "ticks": ""
             }
            },
            "type": "scattermapbox"
           }
          ],
          "scatterpolar": [
           {
            "marker": {
             "colorbar": {
              "outlinewidth": 0,
              "ticks": ""
             }
            },
            "type": "scatterpolar"
           }
          ],
          "scatterpolargl": [
           {
            "marker": {
             "colorbar": {
              "outlinewidth": 0,
              "ticks": ""
             }
            },
            "type": "scatterpolargl"
           }
          ],
          "scatterternary": [
           {
            "marker": {
             "colorbar": {
              "outlinewidth": 0,
              "ticks": ""
             }
            },
            "type": "scatterternary"
           }
          ],
          "surface": [
           {
            "colorbar": {
             "outlinewidth": 0,
             "ticks": ""
            },
            "colorscale": [
             [
              0,
              "#0d0887"
             ],
             [
              0.1111111111111111,
              "#46039f"
             ],
             [
              0.2222222222222222,
              "#7201a8"
             ],
             [
              0.3333333333333333,
              "#9c179e"
             ],
             [
              0.4444444444444444,
              "#bd3786"
             ],
             [
              0.5555555555555556,
              "#d8576b"
             ],
             [
              0.6666666666666666,
              "#ed7953"
             ],
             [
              0.7777777777777778,
              "#fb9f3a"
             ],
             [
              0.8888888888888888,
              "#fdca26"
             ],
             [
              1,
              "#f0f921"
             ]
            ],
            "type": "surface"
           }
          ],
          "table": [
           {
            "cells": {
             "fill": {
              "color": "#EBF0F8"
             },
             "line": {
              "color": "white"
             }
            },
            "header": {
             "fill": {
              "color": "#C8D4E3"
             },
             "line": {
              "color": "white"
             }
            },
            "type": "table"
           }
          ]
         },
         "layout": {
          "annotationdefaults": {
           "arrowcolor": "#2a3f5f",
           "arrowhead": 0,
           "arrowwidth": 1
          },
          "autotypenumbers": "strict",
          "coloraxis": {
           "colorbar": {
            "outlinewidth": 0,
            "ticks": ""
           }
          },
          "colorscale": {
           "diverging": [
            [
             0,
             "#8e0152"
            ],
            [
             0.1,
             "#c51b7d"
            ],
            [
             0.2,
             "#de77ae"
            ],
            [
             0.3,
             "#f1b6da"
            ],
            [
             0.4,
             "#fde0ef"
            ],
            [
             0.5,
             "#f7f7f7"
            ],
            [
             0.6,
             "#e6f5d0"
            ],
            [
             0.7,
             "#b8e186"
            ],
            [
             0.8,
             "#7fbc41"
            ],
            [
             0.9,
             "#4d9221"
            ],
            [
             1,
             "#276419"
            ]
           ],
           "sequential": [
            [
             0,
             "#0d0887"
            ],
            [
             0.1111111111111111,
             "#46039f"
            ],
            [
             0.2222222222222222,
             "#7201a8"
            ],
            [
             0.3333333333333333,
             "#9c179e"
            ],
            [
             0.4444444444444444,
             "#bd3786"
            ],
            [
             0.5555555555555556,
             "#d8576b"
            ],
            [
             0.6666666666666666,
             "#ed7953"
            ],
            [
             0.7777777777777778,
             "#fb9f3a"
            ],
            [
             0.8888888888888888,
             "#fdca26"
            ],
            [
             1,
             "#f0f921"
            ]
           ],
           "sequentialminus": [
            [
             0,
             "#0d0887"
            ],
            [
             0.1111111111111111,
             "#46039f"
            ],
            [
             0.2222222222222222,
             "#7201a8"
            ],
            [
             0.3333333333333333,
             "#9c179e"
            ],
            [
             0.4444444444444444,
             "#bd3786"
            ],
            [
             0.5555555555555556,
             "#d8576b"
            ],
            [
             0.6666666666666666,
             "#ed7953"
            ],
            [
             0.7777777777777778,
             "#fb9f3a"
            ],
            [
             0.8888888888888888,
             "#fdca26"
            ],
            [
             1,
             "#f0f921"
            ]
           ]
          },
          "colorway": [
           "#636efa",
           "#EF553B",
           "#00cc96",
           "#ab63fa",
           "#FFA15A",
           "#19d3f3",
           "#FF6692",
           "#B6E880",
           "#FF97FF",
           "#FECB52"
          ],
          "font": {
           "color": "#2a3f5f"
          },
          "geo": {
           "bgcolor": "white",
           "lakecolor": "white",
           "landcolor": "#E5ECF6",
           "showlakes": true,
           "showland": true,
           "subunitcolor": "white"
          },
          "hoverlabel": {
           "align": "left"
          },
          "hovermode": "closest",
          "mapbox": {
           "style": "light"
          },
          "paper_bgcolor": "white",
          "plot_bgcolor": "#E5ECF6",
          "polar": {
           "angularaxis": {
            "gridcolor": "white",
            "linecolor": "white",
            "ticks": ""
           },
           "bgcolor": "#E5ECF6",
           "radialaxis": {
            "gridcolor": "white",
            "linecolor": "white",
            "ticks": ""
           }
          },
          "scene": {
           "xaxis": {
            "backgroundcolor": "#E5ECF6",
            "gridcolor": "white",
            "gridwidth": 2,
            "linecolor": "white",
            "showbackground": true,
            "ticks": "",
            "zerolinecolor": "white"
           },
           "yaxis": {
            "backgroundcolor": "#E5ECF6",
            "gridcolor": "white",
            "gridwidth": 2,
            "linecolor": "white",
            "showbackground": true,
            "ticks": "",
            "zerolinecolor": "white"
           },
           "zaxis": {
            "backgroundcolor": "#E5ECF6",
            "gridcolor": "white",
            "gridwidth": 2,
            "linecolor": "white",
            "showbackground": true,
            "ticks": "",
            "zerolinecolor": "white"
           }
          },
          "shapedefaults": {
           "line": {
            "color": "#2a3f5f"
           }
          },
          "ternary": {
           "aaxis": {
            "gridcolor": "white",
            "linecolor": "white",
            "ticks": ""
           },
           "baxis": {
            "gridcolor": "white",
            "linecolor": "white",
            "ticks": ""
           },
           "bgcolor": "#E5ECF6",
           "caxis": {
            "gridcolor": "white",
            "linecolor": "white",
            "ticks": ""
           }
          },
          "title": {
           "x": 0.05
          },
          "xaxis": {
           "automargin": true,
           "gridcolor": "white",
           "linecolor": "white",
           "ticks": "",
           "title": {
            "standoff": 15
           },
           "zerolinecolor": "white",
           "zerolinewidth": 2
          },
          "yaxis": {
           "automargin": true,
           "gridcolor": "white",
           "linecolor": "white",
           "ticks": "",
           "title": {
            "standoff": 15
           },
           "zerolinecolor": "white",
           "zerolinewidth": 2
          }
         }
        },
        "title": {
         "text": "Yearly Attrition Rate per Function"
        },
        "xaxis": {
         "title": {
          "text": "Year"
         }
        },
        "yaxis": {
         "title": {
          "text": "Attrition Rate"
         }
        }
       }
      }
     },
     "metadata": {},
     "output_type": "display_data"
    }
   ],
   "source": [
    "def calculate_attrition_by_category(data, category):\n",
    "    # Preprocess and extract year from start and end dates\n",
    "    data['start_date'] = pd.to_datetime(data['start_date'], format='%d/%m/%Y', errors='coerce')\n",
    "    data['end_date'] = pd.to_datetime(data['end_date'], format='%d/%m/%Y', errors='coerce')\n",
    "    data['end_date'].fillna(pd.Timestamp('2100-01-01'), inplace=True)\n",
    "    data['Start Year'] = data['start_date'].dt.year\n",
    "    data['Termination Year'] = data['end_date'].dt.year\n",
    "\n",
    "    # Initialize dictionaries for headcount and attrition\n",
    "    headcount_start = {}\n",
    "    headcount_end = {}\n",
    "    attrition = {}\n",
    "\n",
    "    # Calculate headcount and attrition for each category and year\n",
    "    for cat in data[category].unique():\n",
    "        cat_data = data[data[category] == cat]\n",
    "        headcount_start[cat] = cat_data.groupby('Start Year').size()\n",
    "        headcount_end[cat] = cat_data.groupby('Termination Year').size()\n",
    "\n",
    "        for year in cat_data['Start Year'].unique():\n",
    "            start_count = headcount_start[cat].get(year, 0)\n",
    "            end_count = headcount_end[cat].get(year, 0)\n",
    "            avg_headcount = (start_count + end_count) / 2\n",
    "            terminations = cat_data[cat_data['Termination Year'] == year].shape[0]\n",
    "            attrition_rate = terminations / avg_headcount if avg_headcount > 0 else 0\n",
    "            attrition.setdefault(cat, {})[year] = attrition_rate\n",
    "\n",
    "    return headcount_start, attrition\n",
    "\n",
    "# Usage example with 'function_odp' as the category\n",
    "category = 'odp_function'  # Replace with the actual column name\n",
    "headcount, attrition = calculate_attrition_by_category(data, category)\n",
    "\n",
    "# Visualize the attrition rates\n",
    "fig = go.Figure()\n",
    "for cat, yearly_rates in attrition.items():\n",
    "    years = list(yearly_rates.keys())\n",
    "    rates = list(yearly_rates.values())\n",
    "    fig.add_trace(go.Bar(x=years, y=rates, name=cat))\n",
    "\n",
    "fig.update_layout(title='Yearly Attrition Rate per Function',\n",
    "                  xaxis_title='Year', yaxis_title='Attrition Rate',\n",
    "                  barmode='group')\n",
    "fig.show()\n"
   ]
  },
  {
   "cell_type": "code",
   "execution_count": null,
   "metadata": {},
   "outputs": [],
   "source": []
  }
 ],
 "metadata": {
  "kernelspec": {
   "display_name": "Python 3",
   "language": "python",
   "name": "python3"
  },
  "language_info": {
   "codemirror_mode": {
    "name": "ipython",
    "version": 3
   },
   "file_extension": ".py",
   "mimetype": "text/x-python",
   "name": "python",
   "nbconvert_exporter": "python",
   "pygments_lexer": "ipython3",
   "version": "3.9.6"
  }
 },
 "nbformat": 4,
 "nbformat_minor": 2
}
